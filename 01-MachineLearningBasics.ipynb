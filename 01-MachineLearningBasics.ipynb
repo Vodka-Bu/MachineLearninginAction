{
 "cells": [
  {
   "cell_type": "markdown",
   "metadata": {},
   "source": [
    "# 机器学习基础\n",
    "\n",
    "机器学习： 利用计算机来彰显数据背后的真正含义\n",
    "\n",
    "举例日常中的机器学习： 搜索引擎优化算法，垃圾电子邮件过滤，手写识别，人脸识别，风控模型……"
   ]
  },
  {
   "cell_type": "markdown",
   "metadata": {},
   "source": [
    "## 什么是机器学习"
   ]
  },
  {
   "cell_type": "markdown",
   "metadata": {},
   "source": [
    "* 将无序的数据转换成有用的信息\n",
    "* 横跨计算机科学，工程技术，统计 等多个学科\n",
    "* 传感器的普及和海量数据的获取，使得有用信息的提取显得非常重要\n",
    "* 现今的工作情况具有很大的二义性：最大化利润、最小化风险、找到最好的市场策略…… 等等，都是最优化的问题"
   ]
  },
  {
   "cell_type": "markdown",
   "metadata": {},
   "source": [
    "## 关键术语"
   ]
  },
  {
   "cell_type": "markdown",
   "metadata": {},
   "source": [
    "* 特征： features， 变量\n",
    "* 实例： examples， 每一个样本\n",
    "* 目标变量： y，target\n",
    "* 训练集： train set\n",
    "* 测试集： test set\n",
    "* 知识表示： 算法训练后的模型，某些算法可以产生很容易理解的知识表示，而某些算法的知识表示也许只能为计算机所理解"
   ]
  },
  {
   "cell_type": "markdown",
   "metadata": {},
   "source": [
    "## 机器学习的主要任务\n",
    "\n",
    "* 有监督学习\n",
    "    * 分类\n",
    "    * 回归\n",
    "* 无监督学习\n",
    "    * 聚类： 将数据集合分成由类似的对象组成的多个类的过程称为聚类\n",
    "    * 密度估计： 描述数据统计值的过程\n",
    "    * 降维（主成分分析）"
   ]
  },
  {
   "cell_type": "markdown",
   "metadata": {},
   "source": [
    "## 如何选择合适的算法\n",
    "\n",
    "* 目的是什么：分类还是预测\n",
    "* 需要分析或收集的数据是什么\n",
    "    * 特征值是离散还是连续\n",
    "    * 特征值中是否存在缺失的值，原因\n",
    "    * 是否存在异常值，原因\n",
    "    * 频率\n",
    "* 尝试不同算法的执行效果\n",
    "* 一般来说，发现最好算法的关键环节是反复试错的迭代过程"
   ]
  },
  {
   "cell_type": "markdown",
   "metadata": {},
   "source": [
    "## 开发机器学习应用程序的步骤\n",
    "\n",
    "* 收集数据\n",
    "* 准备输入数据（本书使用的是 Python 中的 List，其实有更好的选择）\n",
    "* 分析输入数据：理解数据中的含义，同时创建新的衍生变量，展示其中一些数据\n",
    "* 训练算法\n",
    "* 测试算法\n",
    "* 使用算法"
   ]
  },
  {
   "cell_type": "markdown",
   "metadata": {},
   "source": [
    "## Python 的优势\n",
    "\n",
    "* 清晰的语法结构：\n",
    "    * 已经附带了很多高级数据的类型，例如 列表，元组，字典，集合，队列等\n",
    "    * 支持多种方式变成：面向过程，面向对象，函数式编程\n",
    "    * 处理数据方便\n",
    "* 比较流行：\n",
    "    * 科学领域拥有 Scipy 和 Numpy 函数库，底层使用C 和 Fortran 编写的，保证了性能\n",
    "    * 画图方面可以有 matplotlib\n",
    "    * 提供了交互式 Shell 环境\n",
    "* 开源、免费、简单\n",
    "* 缺点：\n",
    "    * 性能问题"
   ]
  },
  {
   "cell_type": "markdown",
   "metadata": {},
   "source": [
    "## Numpy 函数库基础\n",
    "\n",
    "* 矩阵（mat）和数组（array），两者虽然都能处理行列表示的数据，但是得到的结果不一定相同"
   ]
  },
  {
   "cell_type": "code",
   "execution_count": 1,
   "metadata": {},
   "outputs": [],
   "source": [
    "import numpy as np"
   ]
  },
  {
   "cell_type": "code",
   "execution_count": 2,
   "metadata": {},
   "outputs": [
    {
     "data": {
      "text/plain": [
       "array([[0.08309091, 0.37690912, 0.48753812, 0.90483908],\n",
       "       [0.11136866, 0.94093045, 0.89752516, 0.06411151],\n",
       "       [0.98293655, 0.77733835, 0.05884825, 0.25144116],\n",
       "       [0.20800678, 0.02111045, 0.71566495, 0.8722221 ]])"
      ]
     },
     "execution_count": 2,
     "metadata": {},
     "output_type": "execute_result"
    }
   ],
   "source": [
    "# 形成一个 4 * 4 的随机数组\n",
    "array = np.random.rand(4, 4)\n",
    "array"
   ]
  },
  {
   "cell_type": "code",
   "execution_count": 3,
   "metadata": {},
   "outputs": [
    {
     "data": {
      "text/plain": [
       "matrix([[0.08309091, 0.37690912, 0.48753812, 0.90483908],\n",
       "        [0.11136866, 0.94093045, 0.89752516, 0.06411151],\n",
       "        [0.98293655, 0.77733835, 0.05884825, 0.25144116],\n",
       "        [0.20800678, 0.02111045, 0.71566495, 0.8722221 ]])"
      ]
     },
     "execution_count": 3,
     "metadata": {},
     "output_type": "execute_result"
    }
   ],
   "source": [
    "# 转成矩阵\n",
    "randMat = np.mat(array)\n",
    "randMat"
   ]
  },
  {
   "cell_type": "code",
   "execution_count": 4,
   "metadata": {},
   "outputs": [
    {
     "data": {
      "text/plain": [
       "matrix([[-1.34191385e+00, -2.44946902e-01,  9.16028864e-01,\n",
       "          1.14602995e+00],\n",
       "        [ 1.34843153e+00,  4.32756234e-01,  1.48812870e-01,\n",
       "         -1.47356492e+00],\n",
       "        [-1.34658437e+00,  7.30260240e-01, -2.69614686e-01,\n",
       "          1.42098705e+00],\n",
       "        [ 1.39226514e+00, -5.51243450e-01, -8.34582451e-04,\n",
       "         -2.57073306e-01]])"
      ]
     },
     "execution_count": 4,
     "metadata": {},
     "output_type": "execute_result"
    }
   ],
   "source": [
    "# 求矩阵的逆\n",
    "invMat = randMat.I\n",
    "invMat"
   ]
  },
  {
   "cell_type": "code",
   "execution_count": 5,
   "metadata": {},
   "outputs": [
    {
     "data": {
      "text/plain": [
       "matrix([[ 1.00000000e+00,  0.00000000e+00, -2.08166817e-17,\n",
       "          0.00000000e+00],\n",
       "        [ 0.00000000e+00,  1.00000000e+00,  0.00000000e+00,\n",
       "          0.00000000e+00],\n",
       "        [ 0.00000000e+00, -2.77555756e-17,  1.00000000e+00,\n",
       "          0.00000000e+00],\n",
       "        [ 0.00000000e+00,  1.11022302e-16, -3.12250226e-17,\n",
       "          1.00000000e+00]])"
      ]
     },
     "execution_count": 5,
     "metadata": {},
     "output_type": "execute_result"
    }
   ],
   "source": [
    "# 单位矩阵\n",
    "randMat * invMat"
   ]
  },
  {
   "cell_type": "code",
   "execution_count": 6,
   "metadata": {},
   "outputs": [
    {
     "data": {
      "text/plain": [
       "matrix([[ 2.22044605e-16,  0.00000000e+00, -2.08166817e-17,\n",
       "          0.00000000e+00],\n",
       "        [ 0.00000000e+00,  0.00000000e+00,  0.00000000e+00,\n",
       "          0.00000000e+00],\n",
       "        [ 0.00000000e+00, -2.77555756e-17, -1.11022302e-16,\n",
       "          0.00000000e+00],\n",
       "        [ 0.00000000e+00,  1.11022302e-16, -3.12250226e-17,\n",
       "          0.00000000e+00]])"
      ]
     },
     "execution_count": 6,
     "metadata": {},
     "output_type": "execute_result"
    }
   ],
   "source": [
    "# 误差，使用 np.eye 创建单位矩阵\n",
    "error = randMat * invMat - np.eye(4)\n",
    "error"
   ]
  }
 ],
 "metadata": {
  "kernelspec": {
   "display_name": "Python 3",
   "language": "python",
   "name": "python3"
  },
  "language_info": {
   "codemirror_mode": {
    "name": "ipython",
    "version": 3
   },
   "file_extension": ".py",
   "mimetype": "text/x-python",
   "name": "python",
   "nbconvert_exporter": "python",
   "pygments_lexer": "ipython3",
   "version": "3.7.1"
  },
  "toc": {
   "base_numbering": 1,
   "nav_menu": {},
   "number_sections": false,
   "sideBar": true,
   "skip_h1_title": false,
   "title_cell": "Table of Contents",
   "title_sidebar": "Contents",
   "toc_cell": false,
   "toc_position": {},
   "toc_section_display": true,
   "toc_window_display": false
  }
 },
 "nbformat": 4,
 "nbformat_minor": 2
}
